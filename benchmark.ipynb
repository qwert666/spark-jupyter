{
 "cells": [
  {
   "cell_type": "markdown",
   "metadata": {},
   "source": [
    "# Lookup case"
   ]
  },
  {
   "cell_type": "code",
   "execution_count": 133,
   "metadata": {},
   "outputs": [],
   "source": [
    "from pyspark.sql import SparkSession\n",
    "import datetime"
   ]
  },
  {
   "cell_type": "code",
   "execution_count": 2,
   "metadata": {},
   "outputs": [],
   "source": [
    "spark = SparkSession.builder.appName(\"Spring-Media-DEV\").getOrCreate()"
   ]
  },
  {
   "cell_type": "code",
   "execution_count": 106,
   "metadata": {},
   "outputs": [],
   "source": [
    "browser_lookup = spark.createDataFrame([{\"id\": 1, \"name\": \"Chrome\"}, {\"id\": 2, \"name\": \"Safari\"}, {\"id\": 3, \"name\": \"Brave\"}, {\"id\": 4, \"name\": \"Firefox\"}])\n",
    "big_table = spark.createDataFrame([{\"foo\": 1234, \"browser_id\": 1}, {\"foo\": 3212, \"browser_id\": 1}, {\"foo\": 312, \"browser_id\": 2}, {\"foo\": 44, \"browser_id\": 1}])"
   ]
  },
  {
   "cell_type": "code",
   "execution_count": 107,
   "metadata": {},
   "outputs": [
    {
     "name": "stdout",
     "output_type": "stream",
     "text": [
      "+---+-------+\n",
      "| id|   name|\n",
      "+---+-------+\n",
      "|  1| Chrome|\n",
      "|  2| Safari|\n",
      "|  3|  Brave|\n",
      "|  4|Firefox|\n",
      "+---+-------+\n",
      "\n"
     ]
    }
   ],
   "source": [
    "browser_lookup.show()"
   ]
  },
  {
   "cell_type": "code",
   "execution_count": 126,
   "metadata": {},
   "outputs": [],
   "source": [
    "import random\n",
    "big_table = spark.createDataFrame([{\"browser_id\":random.randint(1,4), \"value\": x} for x in range(1,10000)])"
   ]
  },
  {
   "cell_type": "code",
   "execution_count": 127,
   "metadata": {},
   "outputs": [
    {
     "name": "stdout",
     "output_type": "stream",
     "text": [
      "+----------+-----+\n",
      "|browser_id|value|\n",
      "+----------+-----+\n",
      "|         1|    1|\n",
      "|         1|    2|\n",
      "|         4|    3|\n",
      "+----------+-----+\n",
      "\n"
     ]
    }
   ],
   "source": [
    "big_table.limit(3).show()"
   ]
  },
  {
   "cell_type": "markdown",
   "metadata": {},
   "source": [
    "### Join small - big table "
   ]
  },
  {
   "cell_type": "code",
   "execution_count": 128,
   "metadata": {},
   "outputs": [
    {
     "name": "stdout",
     "output_type": "stream",
     "text": [
      "== Physical Plan ==\n",
      "*(5) SortMergeJoin [browser_id#379L], [id#364L], Inner\n",
      ":- *(2) Sort [browser_id#379L ASC NULLS FIRST], false, 0\n",
      ":  +- Exchange hashpartitioning(browser_id#379L, 200)\n",
      ":     +- *(1) Filter isnotnull(browser_id#379L)\n",
      ":        +- Scan ExistingRDD[browser_id#379L,value#380L]\n",
      "+- *(4) Sort [id#364L ASC NULLS FIRST], false, 0\n",
      "   +- Exchange hashpartitioning(id#364L, 200)\n",
      "      +- *(3) Filter isnotnull(id#364L)\n",
      "         +- Scan ExistingRDD[id#364L,name#365]\n"
     ]
    }
   ],
   "source": [
    "big_table.join(browser_lookup, browser_lookup.id == big_table.browser_id).explain()"
   ]
  },
  {
   "cell_type": "markdown",
   "metadata": {},
   "source": [
    "#### Time"
   ]
  },
  {
   "cell_type": "code",
   "execution_count": 137,
   "metadata": {},
   "outputs": [
    {
     "data": {
      "text/plain": [
       "549048"
      ]
     },
     "execution_count": 137,
     "metadata": {},
     "output_type": "execute_result"
    }
   ],
   "source": [
    "start = datetime.datetime.now()\n",
    "big_table.join(browser_lookup, browser_lookup.id == big_table.browser_id).count()\n",
    "end = datetime.datetime.now()\n",
    "(end - start).microseconds"
   ]
  },
  {
   "cell_type": "markdown",
   "metadata": {},
   "source": [
    "### WitColumn for big - small "
   ]
  },
  {
   "cell_type": "code",
   "execution_count": 129,
   "metadata": {},
   "outputs": [
    {
     "data": {
      "text/plain": [
       "{1: 'Chrome', 2: 'Safari', 3: 'Brave', 4: 'Firefox'}"
      ]
     },
     "execution_count": 129,
     "metadata": {},
     "output_type": "execute_result"
    }
   ],
   "source": [
    "dictionary = browser_lookup.rdd.collectAsMap()\n",
    "dictionary"
   ]
  },
  {
   "cell_type": "code",
   "execution_count": 131,
   "metadata": {},
   "outputs": [
    {
     "name": "stdout",
     "output_type": "stream",
     "text": [
      "== Physical Plan ==\n",
      "*(1) Project [browser_id#379L, value#380L, keys: [1,2], values: [Chrome,Safari][cast(browser_id#379L as int)] AS name#416]\n",
      "+- Scan ExistingRDD[browser_id#379L,value#380L]\n"
     ]
    }
   ],
   "source": [
    "from pyspark.sql.functions import col, create_map, lit\n",
    "from itertools import chain\n",
    "\n",
    "mapping_expr = create_map([lit(x) for x in chain.from_iterable(dic.items())])\n",
    "\n",
    "big_table.withColumn(\"name\", mapping_expr.getItem(col(\"browser_id\"))).explain()"
   ]
  },
  {
   "cell_type": "markdown",
   "metadata": {},
   "source": [
    "#### Time"
   ]
  },
  {
   "cell_type": "code",
   "execution_count": 147,
   "metadata": {},
   "outputs": [
    {
     "data": {
      "text/plain": [
       "63390"
      ]
     },
     "execution_count": 147,
     "metadata": {},
     "output_type": "execute_result"
    }
   ],
   "source": [
    "start = datetime.datetime.now()\n",
    "mapping_expr = create_map([lit(x) for x in chain.from_iterable(dic.items())])\n",
    "big_table.withColumn(\"name\", mapping_expr.getItem(col(\"browser_id\"))).count()\n",
    "end = datetime.datetime.now()\n",
    "(end - start).microseconds"
   ]
  },
  {
   "cell_type": "code",
   "execution_count": null,
   "metadata": {},
   "outputs": [],
   "source": []
  }
 ],
 "metadata": {
  "kernelspec": {
   "display_name": "Python 3",
   "language": "python",
   "name": "python3"
  },
  "language_info": {
   "codemirror_mode": {
    "name": "ipython",
    "version": 3
   },
   "file_extension": ".py",
   "mimetype": "text/x-python",
   "name": "python",
   "nbconvert_exporter": "python",
   "pygments_lexer": "ipython3",
   "version": "3.7.2"
  }
 },
 "nbformat": 4,
 "nbformat_minor": 2
}
